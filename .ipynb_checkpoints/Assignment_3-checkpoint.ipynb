{
 "cells": [
  {
   "cell_type": "markdown",
   "metadata": {
    "id": "Tw5BAXDghZDY"
   },
   "source": [
    "### Ques.1 Write a function using only list filter lambda that can tell whether a number is a Fibonacci number or not. You can use a pre-calculated list/dict to store fab numbers till 10000 PTS:100\n"
   ]
  },
  {
   "cell_type": "code",
   "execution_count": 1,
   "metadata": {
    "colab": {
     "base_uri": "https://localhost:8080/"
    },
    "id": "eGILUAvLpXds",
    "outputId": "e1a49c14-2476-4a16-cc86-795fffa15bf9"
   },
   "outputs": [],
   "source": [
    "from functools import reduce\n",
    "  \n",
    "fib = lambda n: reduce(lambda x, _: x+[x[-1]+x[-2]], \n",
    "                                 range(n-2), [0, 1]) \n",
    "  \n",
    "#print(fib(1000)) "
   ]
  },
  {
   "cell_type": "code",
   "execution_count": 2,
   "metadata": {
    "colab": {
     "base_uri": "https://localhost:8080/"
    },
    "id": "58s-w6-QyMGW",
    "outputId": "550606f4-f437-4ede-c33f-231e225974d7"
   },
   "outputs": [
    {
     "data": {
      "text/plain": [
       "True"
      ]
     },
     "execution_count": 2,
     "metadata": {},
     "output_type": "execute_result"
    }
   ],
   "source": [
    "(len(list(filter (lambda x : x == 1, fib(1000)))) > 0)"
   ]
  },
  {
   "cell_type": "code",
   "execution_count": 3,
   "metadata": {
    "colab": {
     "base_uri": "https://localhost:8080/"
    },
    "id": "BqOT0f8EyZ73",
    "outputId": "d84bc8fb-5ad6-48e9-86ee-7e7ba64a42d0"
   },
   "outputs": [
    {
     "data": {
      "text/plain": [
       "False"
      ]
     },
     "execution_count": 3,
     "metadata": {},
     "output_type": "execute_result"
    }
   ],
   "source": [
    "(len(list(filter (lambda x : x == 10, fib(1000)))) > 0)"
   ]
  },
  {
   "cell_type": "markdown",
   "metadata": {
    "id": "VLxzB3Pg_YZz"
   },
   "source": [
    "### Ques2. Using list comprehension (and zip/lamda/etc if required) write five different expressions that:"
   ]
  },
  {
   "cell_type": "markdown",
   "metadata": {
    "id": "SlfXXyLY_n7P"
   },
   "source": [
    "a) add 2 iterables a and b such that a is even and b is odd"
   ]
  },
  {
   "cell_type": "code",
   "execution_count": 4,
   "metadata": {
    "colab": {
     "base_uri": "https://localhost:8080/"
    },
    "id": "7PSgPZ4h_p6W",
    "outputId": "7f5389bb-e989-45d9-8315-287690ea1493"
   },
   "outputs": [
    {
     "name": "stdout",
     "output_type": "stream",
     "text": [
      "Original list:\n",
      "[2, 4, 6]\n",
      "[3, 5, 7]\n",
      "\n",
      "Result: after adding two list\n",
      "[5, 9, 13]\n"
     ]
    }
   ],
   "source": [
    "nums1 = [2, 4, 6]\n",
    "nums2 = [3, 5, 7]\n",
    "print(\"Original list:\")\n",
    "print(nums1)\n",
    "print(nums2)\n",
    "result = map(lambda x, y: x + y, nums1, nums2)\n",
    "print(\"\\nResult: after adding two list\")\n",
    "print(list(result))"
   ]
  },
  {
   "cell_type": "markdown",
   "metadata": {
    "id": "D7ZpI9sIkCsH"
   },
   "source": [
    "b) strips every vowel from a string provided (tsai>>t s)"
   ]
  },
  {
   "cell_type": "code",
   "execution_count": 5,
   "metadata": {
    "colab": {
     "base_uri": "https://localhost:8080/"
    },
    "id": "l_mL3EwqkGxS",
    "outputId": "c52e6add-167b-45b1-dbe9-400530dfc93d"
   },
   "outputs": [
    {
     "name": "stdout",
     "output_type": "stream",
     "text": [
      "ts\n"
     ]
    }
   ],
   "source": [
    "a = \"tsai\"\n",
    "a = \"\".join(filter(lambda x: \"aeiou\".find(x) == -1, list(a)))\n",
    "print(a)"
   ]
  },
  {
   "cell_type": "markdown",
   "metadata": {
    "id": "S9bWKk20k300"
   },
   "source": [
    "c) acts like a ReLU function for a 1D array"
   ]
  },
  {
   "cell_type": "code",
   "execution_count": 6,
   "metadata": {
    "id": "pVebqR6FlN4T"
   },
   "outputs": [],
   "source": [
    "import numpy as np\n",
    "x = np.random.random((1)) "
   ]
  },
  {
   "cell_type": "code",
   "execution_count": 7,
   "metadata": {
    "colab": {
     "base_uri": "https://localhost:8080/"
    },
    "id": "QSRtdAN5miNh",
    "outputId": "afc5cc5a-405a-4ba0-f643-eeefba33bb25"
   },
   "outputs": [
    {
     "data": {
      "text/plain": [
       "array([0.97321704])"
      ]
     },
     "execution_count": 7,
     "metadata": {},
     "output_type": "execute_result"
    }
   ],
   "source": [
    "x"
   ]
  },
  {
   "cell_type": "code",
   "execution_count": 8,
   "metadata": {
    "id": "a4ymY-g_mi4x"
   },
   "outputs": [],
   "source": [
    "R = lambda x:max(x,0)"
   ]
  },
  {
   "cell_type": "code",
   "execution_count": 9,
   "metadata": {
    "colab": {
     "base_uri": "https://localhost:8080/"
    },
    "id": "S2C41y4KmvjS",
    "outputId": "79e4f8ea-17ad-4958-e697-29c8460e6696"
   },
   "outputs": [
    {
     "data": {
      "text/plain": [
       "array([0.97321704])"
      ]
     },
     "execution_count": 9,
     "metadata": {},
     "output_type": "execute_result"
    }
   ],
   "source": [
    "R(x)"
   ]
  },
  {
   "cell_type": "markdown",
   "metadata": {
    "id": "J300pO0WnBfj"
   },
   "source": [
    "d) acts like a sigmoid function for a 1D array"
   ]
  },
  {
   "cell_type": "code",
   "execution_count": 10,
   "metadata": {
    "id": "a881N05CnZ0S"
   },
   "outputs": [],
   "source": [
    "import math"
   ]
  },
  {
   "cell_type": "code",
   "execution_count": 11,
   "metadata": {
    "id": "1UhpkzsJmw9y"
   },
   "outputs": [],
   "source": [
    "sigmoid = lambda x: .5 * (math.tanh(.5 * x) + 1)"
   ]
  },
  {
   "cell_type": "code",
   "execution_count": 12,
   "metadata": {
    "id": "8Rd241-tnAWb"
   },
   "outputs": [],
   "source": [
    "x = np.random.random((1)) "
   ]
  },
  {
   "cell_type": "code",
   "execution_count": 13,
   "metadata": {
    "colab": {
     "base_uri": "https://localhost:8080/"
    },
    "id": "2eWey_BFnggc",
    "outputId": "0213478e-310d-4c24-d220-6d3e24d22f55"
   },
   "outputs": [
    {
     "data": {
      "text/plain": [
       "array([0.63023443])"
      ]
     },
     "execution_count": 13,
     "metadata": {},
     "output_type": "execute_result"
    }
   ],
   "source": [
    "x"
   ]
  },
  {
   "cell_type": "code",
   "execution_count": 14,
   "metadata": {
    "colab": {
     "base_uri": "https://localhost:8080/"
    },
    "id": "0LiePGJXnVnD",
    "outputId": "42b70f72-a1db-4c20-dd87-1db2f497c92b"
   },
   "outputs": [
    {
     "data": {
      "text/plain": [
       "0.6525426156673972"
      ]
     },
     "execution_count": 14,
     "metadata": {},
     "output_type": "execute_result"
    }
   ],
   "source": [
    "sigmoid(x)"
   ]
  },
  {
   "cell_type": "markdown",
   "metadata": {
    "id": "d0SVH2cOo-oJ"
   },
   "source": [
    "e) takes a small character string and shifts all characters by 5 (handle boundary conditions) tsai>>yxfn"
   ]
  },
  {
   "cell_type": "code",
   "execution_count": 15,
   "metadata": {
    "id": "iwSl5Hc8qbP1"
   },
   "outputs": [],
   "source": [
    "def shift(s, n):\n",
    "    return ''.join(chr(ord(char) + n) for char in s)"
   ]
  },
  {
   "cell_type": "code",
   "execution_count": 16,
   "metadata": {
    "colab": {
     "base_uri": "https://localhost:8080/"
    },
    "id": "_UDw4406nX7T",
    "outputId": "d7af051c-40f5-4947-d0f6-a41ac246c374"
   },
   "outputs": [
    {
     "name": "stdout",
     "output_type": "stream",
     "text": [
      "yxfn\n"
     ]
    }
   ],
   "source": [
    "list_1 =['tsai']\n",
    "list_2 =[5]\n",
    "\n",
    "for x, y in zip(list_1, list_2):\n",
    "    print(shift(x, y))"
   ]
  },
  {
   "cell_type": "markdown",
   "metadata": {
    "id": "PLgdw0KCqwVl"
   },
   "source": [
    "### Ques3. A list comprehension expression that takes a ~200 word paragraph (write your own paragraph to check), and checks whether it has any of the swear words mentioned in https://github.com/RobertJGabriel/Google-profanity-words/blob/master/list.txt "
   ]
  },
  {
   "cell_type": "code",
   "execution_count": 24,
   "metadata": {
    "id": "TEZJbHRH9Bqc"
   },
   "outputs": [],
   "source": [
    "with open(r'C:\\Users\\hp\\Desktop\\TSAI_Assignment\\TSAI-CODE\\List_Words.txt') as f:\n",
    "    lines = f.read().splitlines()"
   ]
  },
  {
   "cell_type": "code",
   "execution_count": 26,
   "metadata": {
    "colab": {
     "base_uri": "https://localhost:8080/"
    },
    "id": "IOaCyRlx9GCa",
    "outputId": "1d85f0b8-cd94-4004-8617-0596f6c5807c"
   },
   "outputs": [],
   "source": [
    "#lines"
   ]
  },
  {
   "cell_type": "code",
   "execution_count": 27,
   "metadata": {
    "id": "QzBXxFMD8v0V"
   },
   "outputs": [],
   "source": [
    "def check_profanity(text_to_check):\n",
    "    Word_db = lines\n",
    "    if set(Word_db).intersection(set(text_to_check.split())):\n",
    "        print(\"Profanity Alert!!\")\n",
    "    else:\n",
    "        print(\"This document has no curse words.\")"
   ]
  },
  {
   "cell_type": "code",
   "execution_count": 28,
   "metadata": {
    "id": "pPwsvkCI9eA7"
   },
   "outputs": [],
   "source": [
    "paragraph = \"The victim's anorexic unwashed mother proceeded to marinate his rock hard slippery oiled black fat cock with pungent whitish yellow cloudy smegma with bits in, the stench so extreme you could pass out, slobbering spittle and sputum all over her stinky wet drizzled dripping crispy black hard boiled deep fried slow roasted pressure cooked cunt then impaled it with such force bending the transgender erectile penis causing a stress crack to form and eventually causing the ligaments of the penis to fail, resulting in severe skin tearing and ripping, labia rupture, cervix perforation, athlete's foot up the arse, and copious amounts of blood and sweat, with strands of seminal fluid and stagnant smegma seeping. The remains of the penis were then shoved viciously into the mutilated and ravaged butter clogged deteriorating vagina, various bodily fluids being propelled the opposite direction. Did you know, shoving a deep oily sticky slimy fat black hard bendy wiggly veiny magnificent drained cock in a fat red irritated creased wrinkled old wetted juicy anus can result in critical ligament stretching, tendon slashing, muscle wasting, skin puffiness and redness, bone bending to the point of snapping and popping leaving a gaping opening, bone marrow shrivelling, organ leakage, foaming, and flaking, extreme flesh blistering and bruising, burns, stains, boils, abscesses, multiple critical lesions, gashes, genital fatigue, scarring, pus surge, labia tarnishing, rectal blotching and discolouration, multiple sores, whole body splitting, rupture and breakage, long term bodily decay, corrosion, dissolution and dilapidation, nerve buckling, crumbling and failing, and brain rot, fragmentation, misshaping, slanting, trauma, hollowing out and mincing. But introducing it into a wide painful bleeding incision in the crumpled scrotal sack can cause violent testicular ravaging, sudden infertility syndrome, urethral bulging, spilling, and blockage, seminal overflow and critical penile bursting, so instead of stealing someone’s virginity, you will have stolen their FERtility. Anal leakage can be a dilemma for those who possess a mushy, slushy, squashy, squishy, splashy, fleshy, fishy, sloppy, smudgy, spunky, murky, muddy, lumpy rectum, but can be easily rectified by anal sand blasting, anal sewing shut, anal hot glue gunning, a session of anal vacuum forming, a generous dose of anal anti-scuffing lubricant, fitting of an anal filtration system, and the installation of an anal dual-temperature recirculating water system. However if you suffer violent peeling away of the rectal wall and death of anal tissue on a regular basis each morning, the only treatment is blasting of the anal opening with an abrasive propelled by compressed air. Inserting hot rods past the cervical lips and into the central vagina can incur agonising uterine singeing, scalding of the inside layer of the fallopian tube, ovarian barbecuing, clitoral grilling, tissue soldering, vaginal fluid vaporising, and in the case of pregnant females, amniotic sac expansion and distension, foetal killing off by scorching of epidermis and dermis, 3rd degree foetal burns, violent destruction of the womb, skin charring, placenta roasting, bodily oil sizzling, and inadvertent internal pressure-cooking of the young foetus.\""
   ]
  },
  {
   "cell_type": "code",
   "execution_count": 29,
   "metadata": {
    "colab": {
     "base_uri": "https://localhost:8080/"
    },
    "id": "gx20ivMA9RX7",
    "outputId": "53419c0e-845c-433f-b0a5-924e5620cefd"
   },
   "outputs": [
    {
     "name": "stdout",
     "output_type": "stream",
     "text": [
      "Profanity Alert!!\n"
     ]
    }
   ],
   "source": [
    "check_profanity(paragraph)"
   ]
  },
  {
   "cell_type": "markdown",
   "metadata": {
    "id": "VsQ2O8BE6o-H"
   },
   "source": [
    "#### Ques4. Using reduce functions:"
   ]
  },
  {
   "cell_type": "markdown",
   "metadata": {
    "id": "5aAhysIs7a3t"
   },
   "source": [
    "a) add only even numbers in a list"
   ]
  },
  {
   "cell_type": "code",
   "execution_count": 30,
   "metadata": {
    "id": "bAmgGLZf8fDc"
   },
   "outputs": [],
   "source": [
    "import functools "
   ]
  },
  {
   "cell_type": "code",
   "execution_count": 31,
   "metadata": {
    "id": "4vOtCU3rP8Gf"
   },
   "outputs": [],
   "source": [
    "list1 = [10, 21, 4, 45, 66, 93, 11]"
   ]
  },
  {
   "cell_type": "code",
   "execution_count": 32,
   "metadata": {
    "colab": {
     "base_uri": "https://localhost:8080/"
    },
    "id": "EvTSFgTHQLPk",
    "outputId": "4116a2dd-fc67-44a6-f63d-3f0cb412ee0b"
   },
   "outputs": [
    {
     "name": "stdout",
     "output_type": "stream",
     "text": [
      "The even_nos in list : [10, 4, 66]\n"
     ]
    }
   ],
   "source": [
    "even_nos = list(filter(lambda x: (x % 2 == 0), list1))\n",
    "print (\"The even_nos in list :\",even_nos) "
   ]
  },
  {
   "cell_type": "code",
   "execution_count": 33,
   "metadata": {
    "colab": {
     "base_uri": "https://localhost:8080/"
    },
    "id": "FeeyLAB6Q7X_",
    "outputId": "0243c6e1-7554-4d3e-ae89-1caad950fab2"
   },
   "outputs": [
    {
     "name": "stdout",
     "output_type": "stream",
     "text": [
      "The sum of even_nos in list : 80\n"
     ]
    }
   ],
   "source": [
    "sum_even = reduce(lambda x, y:x+y, even_nos)\n",
    "print (\"The sum of even_nos in list :\", sum_even)"
   ]
  },
  {
   "cell_type": "markdown",
   "metadata": {
    "id": "gjshtbPYvGK0"
   },
   "source": [
    "b) Find the biggest character in a string (printable ascii characters)"
   ]
  },
  {
   "cell_type": "code",
   "execution_count": 34,
   "metadata": {
    "colab": {
     "base_uri": "https://localhost:8080/"
    },
    "id": "tvtBEO7rajYE",
    "outputId": "a3bedab3-292f-4579-a83b-2b86bcf40c17"
   },
   "outputs": [
    {
     "name": "stdout",
     "output_type": "stream",
     "text": [
      "Largest and smallest alphabet is : s and A\n"
     ]
    }
   ],
   "source": [
    "def largest_alphabet(a, n) : \n",
    "      \n",
    "    # Initializing max alphabet to 'a' \n",
    "    max = 'A'\n",
    "  \n",
    "    # Find largest alphabet \n",
    "    for i in range(n) :  \n",
    "        if (a[i] > max): \n",
    "            max = a[i] \n",
    "  \n",
    "    # Returning largest element \n",
    "    return max\n",
    "  \n",
    "# Function that return the smallest alphabet \n",
    "def smallest_alphabet(a, n) : \n",
    "      \n",
    "    # Initializing smallest alphabet to 'z' \n",
    "    min = 'z'; \n",
    "  \n",
    "    # Find smallest alphabet \n",
    "    for i in range (n - 1) :  \n",
    "        if (a[i] < min): \n",
    "            min = a[i]  \n",
    "  \n",
    "    # Returning smallest alphabet \n",
    "    return min\n",
    "\n",
    "# Driver code \n",
    "if __name__ == '__main__' : \n",
    "      \n",
    "    # Character array \n",
    "    a = \"TsAI\"\n",
    "      \n",
    "    # Calculating size of the string \n",
    "    size = len(a) \n",
    "      \n",
    "    # Calling functions and print returned value \n",
    "    print( \"Largest and smallest alphabet is : \", end = \"\") \n",
    "      \n",
    "    print(largest_alphabet(a, size), end = \" and \") \n",
    "    print(smallest_alphabet(a, size)) \n",
    "\n"
   ]
  },
  {
   "cell_type": "markdown",
   "metadata": {
    "id": "jvITwdB7xS_f"
   },
   "source": [
    "c) adds every 3rd number in a list"
   ]
  },
  {
   "cell_type": "code",
   "execution_count": 35,
   "metadata": {
    "colab": {
     "base_uri": "https://localhost:8080/"
    },
    "id": "DPt1zJyBU-Sc",
    "outputId": "bf1b360c-f051-4928-e5b2-7263cb96829c"
   },
   "outputs": [
    {
     "name": "stdout",
     "output_type": "stream",
     "text": [
      "The sum of every 3rd element in list : 12\n"
     ]
    }
   ],
   "source": [
    "l = [7,6,5,4,3,2,1]\n",
    "newlist = l[::3]\n",
    "sum = reduce(lambda x, y:x+y, newlist)\n",
    "print (\"The sum of every 3rd element in list :\", sum)"
   ]
  },
  {
   "cell_type": "markdown",
   "metadata": {
    "id": "zwD6wkzh1pIU"
   },
   "source": [
    "Ques5. Using randint, random.choice and list comprehensions, write an expression that generates 15 random KADDAADDDD number plates, where KA is fixed, D stands for a digit, and A stands for Capital alphabets. 10<<DD<<99 & 1000<<DDDD<<9999"
   ]
  },
  {
   "cell_type": "code",
   "execution_count": 36,
   "metadata": {
    "colab": {
     "base_uri": "https://localhost:8080/"
    },
    "id": "zPHDJytf1u2L",
    "outputId": "955a73a6-40cc-45bd-f23d-4ca979e69fbf"
   },
   "outputs": [
    {
     "name": "stdout",
     "output_type": "stream",
     "text": [
      "KA34PC1291\n",
      "KA31ZQ8705\n",
      "KA39FO0357\n",
      "KA14YZ6201\n",
      "KA97DQ6982\n",
      "KA45PN3895\n",
      "KA45CL9485\n",
      "KA12NM1828\n",
      "KA24QG7275\n",
      "KA51DL9363\n",
      "KA83PP7029\n",
      "KA52PI7704\n",
      "KA96XM2625\n",
      "KA10FA3191\n",
      "KA98GB2559\n"
     ]
    }
   ],
   "source": [
    "letters = 'ABCDEFGHIJKLMNOPQRSTUVWXYZ'\n",
    "numbers = '0123456789'\n",
    "\n",
    "#allow Python to use random functions\n",
    "import random\n",
    "\n",
    "#create a program loop\n",
    "for i in range(15):\n",
    "    #generate 3 randomly chosen letters, L1, L2, L3\n",
    "    L1 = random.choice(letters)\n",
    "    L2 = random.choice(letters)\n",
    "    #generate 4 randomly chosen numbers, N1, N2, N3, N4\n",
    "    N1 = random.choice(numbers)\n",
    "    N2 = random.choice(numbers)\n",
    "    N3 = random.choice(numbers)\n",
    "    N4 = random.choice(numbers)\n",
    "    N5 = random.choice(numbers)\n",
    "    N6 = random.choice(numbers)\n",
    "\n",
    "    #combine it together into one print function\n",
    "    print('KA'+ N1 + N2 + L1+ L2+ N3+ N4+ N5+ N6)"
   ]
  },
  {
   "cell_type": "markdown",
   "metadata": {
    "id": "oO5f9ldL1wGE"
   },
   "source": [
    "Ques6. Write the above again from scratch where KA can be changed to DL, and 1000/9999 ranges can be provided. "
   ]
  },
  {
   "cell_type": "code",
   "execution_count": 37,
   "metadata": {
    "colab": {
     "base_uri": "https://localhost:8080/"
    },
    "id": "cEU2uNfM12A5",
    "outputId": "a3586b3b-40f0-449f-9fa0-fecfe9da39f8"
   },
   "outputs": [
    {
     "name": "stdout",
     "output_type": "stream",
     "text": [
      "DL79RJ0689\n",
      "DL75TG0499\n",
      "KA85LC8422\n",
      "KA25BN5744\n",
      "KA57AM9466\n",
      "KA96BV7292\n",
      "DL91ES9944\n",
      "KA91SL8521\n",
      "DL23PU5131\n",
      "DL42JL9221\n",
      "DL44ZC5696\n",
      "DL61WF9889\n",
      "DL92QB8170\n",
      "DL99NH3140\n",
      "DL93QO7020\n"
     ]
    }
   ],
   "source": [
    "letters = 'ABCDEFGHIJKLMNOPQRSTUVWXYZ'\n",
    "numbers = '0123456789'\n",
    "B1 = ['KA','DL']\n",
    "#allow Python to use random functions\n",
    "import random\n",
    "\n",
    "#create a program loop\n",
    "for i in range(15):\n",
    "    for value in sorted(B1,key=lambda _: random.random()):\n",
    "\n",
    "      L1 = random.choice(letters)\n",
    "      L2 = random.choice(letters)\n",
    "      #generate 4 randomly chosen numbers, N1, N2, N3, N4, N5, N6\n",
    "      N1 = random.choice(numbers)\n",
    "      N2 = random.choice(numbers)\n",
    "      N3 = random.choice(numbers)\n",
    "      N4 = random.choice(numbers)\n",
    "      N5 = random.choice(numbers)\n",
    "      N6 = random.choice(numbers)\n",
    "\n",
    "    #combine it together into one print function\n",
    "    print(value + N1 + N2 + L1+ L2+ N3+ N4+ N5+ N6)"
   ]
  },
  {
   "cell_type": "code",
   "execution_count": null,
   "metadata": {
    "id": "SdD1xB-8ixKU"
   },
   "outputs": [],
   "source": []
  }
 ],
 "metadata": {
  "colab": {
   "name": "Assignment3.ipynb",
   "provenance": [],
   "toc_visible": true
  },
  "kernelspec": {
   "display_name": "Python 3",
   "language": "python",
   "name": "python3"
  },
  "language_info": {
   "codemirror_mode": {
    "name": "ipython",
    "version": 3
   },
   "file_extension": ".py",
   "mimetype": "text/x-python",
   "name": "python",
   "nbconvert_exporter": "python",
   "pygments_lexer": "ipython3",
   "version": "3.8.3"
  }
 },
 "nbformat": 4,
 "nbformat_minor": 1
}
